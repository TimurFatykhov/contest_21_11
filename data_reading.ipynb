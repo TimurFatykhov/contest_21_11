{
 "cells": [
  {
   "cell_type": "code",
   "execution_count": 1,
   "metadata": {
    "collapsed": true
   },
   "outputs": [],
   "source": [
    "import numpy as np \n",
    "import glob \n",
    "import matplotlib.image as mpimg\n",
    "import matplotlib.pyplot as plt\n",
    "\n",
    "%matplotlib inline"
   ]
  },
  {
   "cell_type": "markdown",
   "metadata": {},
   "source": [
    "#### Load the train data"
   ]
  },
  {
   "cell_type": "code",
   "execution_count": 2,
   "metadata": {
    "scrolled": true
   },
   "outputs": [
    {
     "name": "stdout",
     "output_type": "stream",
     "text": [
      "CPU times: user 2.12 s, sys: 834 ms, total: 2.96 s\n",
      "Wall time: 4.03 s\n"
     ]
    }
   ],
   "source": [
    "%%time \n",
    "\n",
    "postures = ['A', 'B', 'C', 'Five', 'V', 'Point']\n",
    "X = []\n",
    "y_train = []\n",
    "img_size = 64\n",
    "\n",
    "\n",
    "for name in postures:\n",
    "    samples = glob.glob('./blended_train/' + name + '/*.JPG')\n",
    "    \n",
    "    for s in samples:\n",
    "        img = mpimg.imread(s)\n",
    "        width = img.shape[0]\n",
    "        height = img.shape[1]\n",
    "        \n",
    "        # drop big images\n",
    "        if height > 150 or width > 150 or height < 64 or width < 64:\n",
    "            continue\n",
    "        \n",
    "        offset_w = (width - img_size) // 2 \n",
    "        offset_h = (height - img_size) // 2 \n",
    "        \n",
    "        img_cropped = img[offset_w : offset_w + img_size, offset_h : offset_h + img_size, :]\n",
    "        X.append(img_cropped)\n",
    "        y_train.append(name)\n",
    "        \n",
    "y_train = np.array(y_train)\n",
    "        \n",
    "n = len(X)\n",
    "X_train = np.ndarray((n, img_size, img_size, 3), np.int32)\n",
    "for i in range(n):\n",
    "    X_train[i] = X[i]"
   ]
  },
  {
   "cell_type": "markdown",
   "metadata": {},
   "source": [
    "#### Show first train image"
   ]
  },
  {
   "cell_type": "code",
   "execution_count": 3,
   "metadata": {},
   "outputs": [
    {
     "data": {
      "text/plain": [
       "<matplotlib.image.AxesImage at 0x111aceb70>"
      ]
     },
     "execution_count": 3,
     "metadata": {},
     "output_type": "execute_result"
    },
    {
     "data": {
      "image/png": "[encoded data removed]",
      "text/plain": [
       "<Figure size 432x288 with 1 Axes>"
      ]
     },
     "metadata": {},
     "output_type": "display_data"
    }
   ],
   "source": [
    "plt.imshow(X_train[0])"
   ]
  }
 ],
 "metadata": {
  "kernelspec": {
   "display_name": "Python 3",
   "language": "python",
   "name": "python3"
  },
  "language_info": {
   "codemirror_mode": {
    "name": "ipython",
    "version": 3
   },
   "file_extension": ".py",
   "mimetype": "text/x-python",
   "name": "python",
   "nbconvert_exporter": "python",
   "pygments_lexer": "ipython3",
   "version": "3.6.3"
  },
  "latex_envs": {
   "LaTeX_envs_menu_present": true,
   "autocomplete": true,
   "bibliofile": "biblio.bib",
   "cite_by": "apalike",
   "current_citInitial": 1,
   "eqLabelWithNumbers": true,
   "eqNumInitial": 1,
   "hotkeys": {
    "equation": "Ctrl-E",
    "itemize": "Ctrl-I"
   },
   "labels_anchors": false,
   "latex_user_defs": false,
   "report_style_numbering": false,
   "user_envs_cfg": false
  }
 },
 "nbformat": 4,
 "nbformat_minor": 2
}
